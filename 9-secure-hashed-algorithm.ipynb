{
 "cells": [
  {
   "cell_type": "markdown",
   "metadata": {},
   "source": [
    "**9.Write a program to implement Secured Hash Algorithm (SHA) one way hash function.**"
   ]
  },
  {
   "cell_type": "markdown",
   "metadata": {},
   "source": [
    "## sha256"
   ]
  },
  {
   "cell_type": "code",
   "execution_count": 1,
   "metadata": {},
   "outputs": [],
   "source": [
    "import hashlib"
   ]
  },
  {
   "cell_type": "code",
   "execution_count": 2,
   "metadata": {},
   "outputs": [],
   "source": [
    "def sha256_hash(input_string):\n",
    "    # Create a new sha256 hash object\n",
    "    sha256 = hashlib.sha256()\n",
    "    \n",
    "    # Update the hash object with the bytes of the input string\n",
    "    sha256.update(input_string.encode('utf-8'))\n",
    "    \n",
    "    # Get the hexadecimal representation of the hash\n",
    "    return sha256.hexdigest()"
   ]
  },
  {
   "cell_type": "code",
   "execution_count": 3,
   "metadata": {},
   "outputs": [
    {
     "name": "stdout",
     "output_type": "stream",
     "text": [
      "SHA-256 hash of 'Hello World': a591a6d40bf420404a011733cfb7b190d62c65bf0bcda32b57b277d9ad9f146e\n"
     ]
    }
   ],
   "source": [
    "input_string = \"Hello World\"\n",
    "hash_output = sha256_hash(input_string)\n",
    "print(f\"SHA-256 hash of '{input_string}': {hash_output}\")"
   ]
  },
  {
   "cell_type": "markdown",
   "metadata": {},
   "source": [
    "## sha-1"
   ]
  },
  {
   "cell_type": "code",
   "execution_count": 2,
   "metadata": {},
   "outputs": [
    {
     "name": "stdout",
     "output_type": "stream",
     "text": [
      "SHA-1 hash of 'Hello': f7ff9e8b7bb2e09b70935a5d785e0cc5d9d0abf0\n"
     ]
    }
   ],
   "source": [
    "import hashlib\n",
    "\n",
    "def sha1_hash(input_string):\n",
    "    # Create a new sha1 hash object\n",
    "    sha1 = hashlib.sha1()\n",
    "    \n",
    "    # Update the hash object with the bytes of the input string\n",
    "    sha1.update(input_string.encode('utf-8'))\n",
    "    \n",
    "    # Get the hexadecimal representation of the hash\n",
    "    return sha1.hexdigest()\n",
    "\n",
    "if __name__ == \"__main__\":\n",
    "    input_string = \"Hello\"\n",
    "    hash_output = sha1_hash(input_string)\n",
    "    print(f\"SHA-1 hash of '{input_string}': {hash_output}\")\n"
   ]
  }
 ],
 "metadata": {
  "kernelspec": {
   "display_name": "Python 3",
   "language": "python",
   "name": "python3"
  },
  "language_info": {
   "codemirror_mode": {
    "name": "ipython",
    "version": 3
   },
   "file_extension": ".py",
   "mimetype": "text/x-python",
   "name": "python",
   "nbconvert_exporter": "python",
   "pygments_lexer": "ipython3",
   "version": "3.12.4"
  }
 },
 "nbformat": 4,
 "nbformat_minor": 2
}
