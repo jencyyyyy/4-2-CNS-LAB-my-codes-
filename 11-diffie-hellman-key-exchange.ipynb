{
 "cells": [
  {
   "cell_type": "markdown",
   "metadata": {},
   "source": [
    "**11.Write a program to implement Diffie-Hellman Key Exchange.**"
   ]
  },
  {
   "cell_type": "code",
   "execution_count": 1,
   "metadata": {},
   "outputs": [],
   "source": [
    "def modular_exponentiation(base, exponent, modulus):\n",
    "    result = 1\n",
    "    base = base % modulus\n",
    "    \n",
    "    while exponent > 0:\n",
    "        if exponent % 2 == 1:\n",
    "            result = (result * base) % modulus\n",
    "            \n",
    "        base = (base * base) % modulus\n",
    "        exponent //= 2\n",
    "        \n",
    "    return result\n"
   ]
  },
  {
   "cell_type": "code",
   "execution_count": 10,
   "metadata": {},
   "outputs": [],
   "source": [
    "# Step 1. Agree on prime number and base (Known to both Alice and Bob)\n",
    "p = 353   # Prime number\n",
    "g = 3   # Base"
   ]
  },
  {
   "cell_type": "code",
   "execution_count": 21,
   "metadata": {},
   "outputs": [],
   "source": [
    "# Step 2. Generate private keys (known only to Alice and Bob)\n",
    "# a = int(input(\"Alice's private key (a): \"))\n",
    "# b = int(input(\"Bob's private key (b): \"))\n",
    "a= 98\n",
    "b=233"
   ]
  },
  {
   "cell_type": "code",
   "execution_count": 22,
   "metadata": {},
   "outputs": [],
   "source": [
    "# Step 3: Calculate Public keys\n",
    "A = modular_exponentiation(g, a, p)   # Alice's public key\n",
    "B = modular_exponentiation(g, b, p)   # Bob's public key"
   ]
  },
  {
   "cell_type": "code",
   "execution_count": 23,
   "metadata": {},
   "outputs": [
    {
     "name": "stdout",
     "output_type": "stream",
     "text": [
      "Alice's public key (A): 120\n",
      "Bob's public key (B): 248\n"
     ]
    }
   ],
   "source": [
    "# Step 4: Exchange public keys (over the insecure channel)\n",
    "print(f\"Alice's public key (A): {A}\")\n",
    "print(f\"Bob's public key (B): {B}\")"
   ]
  },
  {
   "cell_type": "code",
   "execution_count": 24,
   "metadata": {},
   "outputs": [],
   "source": [
    "# Step 5: Calculate the secret key\n",
    "secret_key_alice = modular_exponentiation(B, a, p)  # Alice's secret key\n",
    "secret_key_bob = modular_exponentiation(A, b, p)    # Bob's secret key\n"
   ]
  },
  {
   "cell_type": "code",
   "execution_count": 25,
   "metadata": {},
   "outputs": [
    {
     "name": "stdout",
     "output_type": "stream",
     "text": [
      "Alice's secret key: 144\n",
      "Bob's secret key: 144\n"
     ]
    }
   ],
   "source": [
    "# Step 6: Both Alice and Bob have the same shared secret key\n",
    "print(f\"Alice's secret key: {secret_key_alice}\")\n",
    "print(f\"Bob's secret key: {secret_key_bob}\")\n",
    "\n"
   ]
  }
 ],
 "metadata": {
  "kernelspec": {
   "display_name": "Python 3",
   "language": "python",
   "name": "python3"
  },
  "language_info": {
   "codemirror_mode": {
    "name": "ipython",
    "version": 3
   },
   "file_extension": ".py",
   "mimetype": "text/x-python",
   "name": "python",
   "nbconvert_exporter": "python",
   "pygments_lexer": "ipython3",
   "version": "3.12.4"
  }
 },
 "nbformat": 4,
 "nbformat_minor": 2
}
