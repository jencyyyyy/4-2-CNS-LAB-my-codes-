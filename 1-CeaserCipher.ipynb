{
 "cells": [
  {
   "cell_type": "markdown",
   "metadata": {},
   "source": [
    "**1.\tSuppose you are given a line of text as a plaintext, find out the corresponding Caesar Cipher (i.e. character three to the right modulo 26). Then perform the reverse operation to get original plaintext.**"
   ]
  },
  {
   "cell_type": "code",
   "execution_count": 88,
   "metadata": {},
   "outputs": [],
   "source": [
    "plain_text = 'Teresa 234 a2@3 ZYX Teresa Bala 24 @ Jency'\n",
    "shift_value=4"
   ]
  },
  {
   "cell_type": "code",
   "execution_count": 84,
   "metadata": {},
   "outputs": [],
   "source": [
    "def cencryption(plain_text, shift_value):\n",
    "    encrypted_text = \"\"\n",
    "\n",
    "    for c in plain_text:\n",
    "        if c.isalpha():\n",
    "            base = ord('A') if c.isupper() else ord('a')\n",
    "            encrypted = chr((ord(c) - base + shift_value) % 26 + base)\n",
    "            encrypted_text += encrypted\n",
    "        else:\n",
    "            encrypted_text += c\n",
    "\n",
    "    return encrypted_text"
   ]
  },
  {
   "cell_type": "code",
   "execution_count": 83,
   "metadata": {},
   "outputs": [
    {
     "data": {
      "text/plain": [
       "(74, 121)"
      ]
     },
     "execution_count": 83,
     "metadata": {},
     "output_type": "execute_result"
    }
   ],
   "source": [
    "ord('J'),ord('y')"
   ]
  },
  {
   "cell_type": "code",
   "execution_count": 85,
   "metadata": {},
   "outputs": [],
   "source": [
    "def cdecryption(encrypted_text, shift_value):\n",
    "    decrypted_text = \"\"\n",
    "\n",
    "    for c in encrypted_text:\n",
    "        if c.isalpha():\n",
    "            base = ord('A') if c.isupper() else ord('a')\n",
    "            decrypted = chr((ord(c) - base - shift_value) % 26 + base)\n",
    "            decrypted_text += decrypted\n",
    "        else:\n",
    "            decrypted_text += c\n",
    "\n",
    "    return decrypted_text"
   ]
  },
  {
   "cell_type": "code",
   "execution_count": 89,
   "metadata": {},
   "outputs": [
    {
     "data": {
      "text/plain": [
       "'Xiviwe 234 e2@3 DCB Xiviwe Fepe 24 @ Nirgc'"
      ]
     },
     "execution_count": 89,
     "metadata": {},
     "output_type": "execute_result"
    }
   ],
   "source": [
    "encrypted=cencryption(plain_text,shift_value)\n",
    "encrypted"
   ]
  },
  {
   "cell_type": "code",
   "execution_count": 90,
   "metadata": {},
   "outputs": [
    {
     "name": "stdout",
     "output_type": "stream",
     "text": [
      "Teresa 234 a2@3 ZYX Teresa Bala 24 @ Jency\n"
     ]
    }
   ],
   "source": [
    "print(cdecryption(encrypted,shift_value))"
   ]
  },
  {
   "cell_type": "code",
   "execution_count": 94,
   "metadata": {},
   "outputs": [
    {
     "data": {
      "text/plain": [
       "('N', 'c')"
      ]
     },
     "execution_count": 94,
     "metadata": {},
     "output_type": "execute_result"
    }
   ],
   "source": [
    "chr(78),chr(99)"
   ]
  }
 ],
 "metadata": {
  "kernelspec": {
   "display_name": "Python 3",
   "language": "python",
   "name": "python3"
  },
  "language_info": {
   "codemirror_mode": {
    "name": "ipython",
    "version": 3
   },
   "file_extension": ".py",
   "mimetype": "text/x-python",
   "name": "python",
   "nbconvert_exporter": "python",
   "pygments_lexer": "ipython3",
   "version": "3.12.4"
  }
 },
 "nbformat": 4,
 "nbformat_minor": 2
}
