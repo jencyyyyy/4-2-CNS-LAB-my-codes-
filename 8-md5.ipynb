{
 "cells": [
  {
   "cell_type": "markdown",
   "metadata": {},
   "source": [
    "**8.\tWrite a program to implement MD5 one way hash function.**\n"
   ]
  },
  {
   "cell_type": "code",
   "execution_count": 1,
   "metadata": {},
   "outputs": [],
   "source": [
    "import hashlib as hl"
   ]
  },
  {
   "cell_type": "code",
   "execution_count": 5,
   "metadata": {},
   "outputs": [],
   "source": [
    "def get_md5(input_string):\n",
    "    md5_hash = hl.md5()\n",
    "    md5_hash.update(input_string.encode('utf-8'))\n",
    "    hashtext = md5_hash.hexdigest()\n",
    "    return hashtext"
   ]
  },
  {
   "cell_type": "code",
   "execution_count": 4,
   "metadata": {},
   "outputs": [
    {
     "name": "stdout",
     "output_type": "stream",
     "text": [
      "Original String: Hello World\n",
      "MD5 hash of the string: b10a8db164e0754105b7a99be72e3fe5\n"
     ]
    }
   ],
   "source": [
    "s = \"Hello World\"\n",
    "print(\"Original String:\", s)\n",
    "print(\"MD5 hash of the string:\", get_md5(s))"
   ]
  },
  {
   "cell_type": "code",
   "execution_count": 8,
   "metadata": {},
   "outputs": [
    {
     "name": "stdout",
     "output_type": "stream",
     "text": [
      "Message Hash:  b10a8db164e0754105b7a99be72e3fe5\n"
     ]
    }
   ],
   "source": [
    "import math\n",
    "\n",
    "# This list maintains the amount by which to rotate the buffers during processing stage\n",
    "rotate_by = [7, 12, 17, 22, 7, 12, 17, 22, 7, 12, 17, 22, 7, 12, 17, 22,\n",
    "\t\t\t 5,  9, 14, 20, 5,  9, 14, 20, 5,  9, 14, 20, 5,  9, 14, 20,\n",
    "\t\t\t 4, 11, 16, 23, 4, 11, 16, 23, 4, 11, 16, 23, 4, 11, 16, 23,\n",
    "\t\t\t 6, 10, 15, 21, 6, 10, 15, 21, 6, 10, 15, 21, 6, 10, 15, 21]\n",
    "\n",
    "# This list maintains the additive constant to be added in each processing step.\n",
    "constants = [int(abs(math.sin(i+1)) * 4294967296) & 0xFFFFFFFF for i in range(64)]\n",
    "\n",
    "# STEP 1: append padding bits s.t. the length is congruent to 448 modulo 512\n",
    "# which is equivalent to saying 56 modulo 64.\n",
    "# padding before adding the length of the original message is conventionally done as:\n",
    "# pad a one followed by zeros to become congruent to 448 modulo 512(or 56 modulo 64).\n",
    "def pad(msg):\n",
    "\tmsg_len_in_bits = (8*len(msg)) & 0xffffffffffffffff\n",
    "\tmsg.append(0x80)\n",
    "\n",
    "\twhile len(msg)%64 != 56:\n",
    "\t\tmsg.append(0)\n",
    "\n",
    "# STEP 2: append a 64-bit version of the length of the length of the original message\n",
    "# in the unlikely event that the length of the message is greater than 2^64,\n",
    "# only the lower order 64 bits of the length are used.\n",
    "\n",
    "# sys.byteorder -> 'little'\n",
    "\tmsg += msg_len_in_bits.to_bytes(8, byteorder='little') # little endian convention\n",
    "\t# to_bytes(8...) will return the lower order 64 bits(8 bytes) of the length.\n",
    "\t\n",
    "\treturn msg\n",
    "\n",
    "\n",
    "# STEP 3: initialise message digest buffer.\n",
    "# MD buffer is 4 words A, B, C and D each of 32-bits.\n",
    "\n",
    "init_MDBuffer = [0x67452301, 0xefcdab89, 0x98badcfe, 0x10325476]\n",
    "\n",
    "# UTILITY/HELPER FUNCTION:\n",
    "def leftRotate(x, amount):\n",
    "\tx &= 0xFFFFFFFF\n",
    "\treturn (x << amount | x >> (32-amount)) & 0xFFFFFFFF\n",
    "\n",
    "\n",
    "# STEP 4: process the message in 16-word blocks\n",
    "# Message block stored in buffers is processed in the follg general manner:\n",
    "# A = B + rotate left by some amount<-(A + func(B, C, D) + additive constant + 1 of the 16 32-bit(4 byte) blocks converted to int form)\n",
    "\n",
    "def processMessage(msg):\n",
    "\tinit_temp = init_MDBuffer[:] # create copy of the buffer init constants to preserve them for when message has multiple 512-bit blocks\n",
    "\t\n",
    "\t# message length is a multiple of 512bits, but the processing is to be done separately for every 512-bit block.\n",
    "\tfor offset in range(0, len(msg), 64):\n",
    "\t\tA, B, C, D = init_temp # have to initialise MD Buffer for every block\n",
    "\t\tblock = msg[offset : offset+64] # create block to be processed\n",
    "\t\t# msg is processed as chunks of 16-words, hence, 16 such 32-bit chunks\n",
    "\t\tfor i in range(64): # 1 pass through the loop processes some 32 bits out of the 512-bit block.\n",
    "\t\t\tif i < 16:\n",
    "\t\t\t\t# Round 1\n",
    "\t\t\t\tfunc = lambda b, c, d: (b & c) | (~b & d)\n",
    "\t\t\t\t# if b is true then ans is c, else d.\n",
    "\t\t\t\tindex_func = lambda i: i\n",
    "\n",
    "\t\t\telif i >= 16 and i < 32:\n",
    "\t\t\t\t# Round 2\n",
    "\t\t\t\tfunc = lambda b, c, d: (d & b) | (~d & c)\n",
    "\t\t\t\t# if d is true then ans is b, else c.\n",
    "\t\t\t\tindex_func = lambda i: (5*i + 1)%16\n",
    "\n",
    "\t\t\telif i >= 32 and i < 48:\n",
    "\t\t\t\t# Round 3\n",
    "\t\t\t\tfunc = lambda b, c, d: b ^ c ^ d\n",
    "\t\t\t\t# Parity of b, c, d\n",
    "\t\t\t\tindex_func = lambda i: (3*i + 5)%16\n",
    "\t\t\t\n",
    "\t\t\telif i >= 48 and i < 64:\n",
    "\t\t\t\t# Round 4\n",
    "\t\t\t\tfunc = lambda b, c, d: c ^ (b | ~d)\n",
    "\t\t\t\tindex_func = lambda i: (7*i)%16\n",
    "\n",
    "\t\t\tF = func(B, C, D) # operate on MD Buffers B, C, D\n",
    "\t\t\tG = index_func(i) # select one of the 32-bit words from the 512-bit block of the original message to operate on.\n",
    "\n",
    "\t\t\tto_rotate = A + F + constants[i] + int.from_bytes(block[4*G : 4*G + 4], byteorder='little')\n",
    "\t\t\tnewB = (B + leftRotate(to_rotate, rotate_by[i])) & 0xFFFFFFFF\n",
    "\t\t\t\t\n",
    "\t\t\tA, B, C, D = D, newB, B, C\n",
    "\t\t\t# rotate the contents of the 4 MD buffers by one every pass through the loop\n",
    "\n",
    "\t\t# Add the final output of the above stage to initial buffer states\n",
    "\t\tfor i, val in enumerate([A, B, C, D]):\n",
    "\t\t\tinit_temp[i] += val\n",
    "\t\t\tinit_temp[i] &= 0xFFFFFFFF\n",
    "\t\t# The init_temp list now holds the MD(in the form of the 4 buffers A, B, C, D) of the 512-bit block of the message fed.\n",
    "\n",
    "\t\n",
    "\t# The same process is to be performed for every 512-bit block to get the final MD(message digest).\n",
    "\n",
    "\t\n",
    "\t# Construct the final message from the final states of the MD Buffers\n",
    "\treturn sum(buffer_content<<(32*i) for i, buffer_content in enumerate(init_temp))\n",
    "\n",
    "\n",
    "def MD_to_hex(digest):\n",
    "\t# takes MD from the processing stage, change its endian-ness and return it as 128-bit hex hash\n",
    "\traw = digest.to_bytes(16, byteorder='little')\n",
    "\treturn '{:032x}'.format(int.from_bytes(raw, byteorder='big'))\n",
    "\n",
    "\n",
    "def md5(msg):\n",
    "\tmsg = bytearray(msg, 'ascii') # create a copy of the original message in form of a sequence of integers [0, 256)\n",
    "\tmsg = pad(msg)\n",
    "\tprocessed_msg = processMessage(msg)\n",
    "\t# processed_msg contains the integer value of the hash\n",
    "\tmessage_hash = MD_to_hex(processed_msg)\n",
    "\tprint(\"Message Hash: \", message_hash)\n",
    "\n",
    "\n",
    "\n",
    "if __name__ == '__main__':\n",
    "\tmessage = s #input()\n",
    "\tmd5(message)"
   ]
  }
 ],
 "metadata": {
  "kernelspec": {
   "display_name": "Python 3",
   "language": "python",
   "name": "python3"
  },
  "language_info": {
   "codemirror_mode": {
    "name": "ipython",
    "version": 3
   },
   "file_extension": ".py",
   "mimetype": "text/x-python",
   "name": "python",
   "nbconvert_exporter": "python",
   "pygments_lexer": "ipython3",
   "version": "3.12.4"
  }
 },
 "nbformat": 4,
 "nbformat_minor": 2
}
