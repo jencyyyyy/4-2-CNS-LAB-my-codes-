{
 "cells": [
  {
   "cell_type": "markdown",
   "metadata": {},
   "source": [
    "**10.\tEncrypt the plaintext message using RSA algorithm. Then perform the reverse operation to get original plaintext.**"
   ]
  },
  {
   "cell_type": "code",
   "execution_count": 4,
   "metadata": {},
   "outputs": [
    {
     "data": {
      "text/plain": [
       "3"
      ]
     },
     "execution_count": 4,
     "metadata": {},
     "output_type": "execute_result"
    }
   ],
   "source": [
    "7//2"
   ]
  },
  {
   "cell_type": "code",
   "execution_count": 1,
   "metadata": {},
   "outputs": [],
   "source": [
    "def gcd(a, b):\n",
    "    while b != 0:\n",
    "        a, b = b, a % b\n",
    "    return a\n"
   ]
  },
  {
   "cell_type": "code",
   "execution_count": 2,
   "metadata": {},
   "outputs": [],
   "source": [
    "#pow(5,7,77) = 47 build in power funtion epeansion - modular_exponentiation\n",
    "def modular_exponentiation(base, exponent, modulus):\n",
    "    result = 1\n",
    "    base = base % modulus\n",
    "\n",
    "    while exponent > 0:\n",
    "        if exponent % 2 == 1:\n",
    "            result = (result * base) % modulus\n",
    "        base = (base * base) % modulus\n",
    "        exponent //= 2\n",
    "\n",
    "    return result\n"
   ]
  },
  {
   "cell_type": "code",
   "execution_count": 4,
   "metadata": {},
   "outputs": [],
   "source": [
    "def rsa_key_generation(p, q, e):\n",
    "    n = p * q\n",
    "    phi = (p - 1) * (q - 1)\n",
    "\n",
    "    # Ensure e is valid\n",
    "    while e >= phi or gcd(e, phi) != 1:\n",
    "        e += 1\n",
    "    print(\"ecryption key:\", e)\n",
    "\n",
    "    # Calculate d, the modular inverse of e modulo phi\n",
    "    d = 1\n",
    "    while (d * e) % phi != 1:\n",
    "        d += 1\n",
    "    print(\"Decryption key:\", d)\n",
    "\n",
    "    return (e, n), (d, n)  # public key, private key\n"
   ]
  },
  {
   "cell_type": "code",
   "execution_count": 5,
   "metadata": {},
   "outputs": [],
   "source": [
    "def rsa_encrypt(plaintext, public_key):\n",
    "    e, n = public_key\n",
    "    return modular_exponentiation(plaintext, e, n)"
   ]
  },
  {
   "cell_type": "code",
   "execution_count": 6,
   "metadata": {},
   "outputs": [],
   "source": [
    "def rsa_decrypt(ciphertext, private_key):\n",
    "    d, n = private_key\n",
    "    return modular_exponentiation(ciphertext, d, n)"
   ]
  },
  {
   "cell_type": "code",
   "execution_count": 7,
   "metadata": {},
   "outputs": [],
   "source": [
    "# Example usage\n",
    "p = 7\n",
    "q = 11\n",
    "e = 7"
   ]
  },
  {
   "cell_type": "code",
   "execution_count": 8,
   "metadata": {},
   "outputs": [
    {
     "name": "stdout",
     "output_type": "stream",
     "text": [
      "ecryption key: 7\n",
      "Decryption key: 43\n",
      "Plaintext: 5\n",
      "Ciphertext: 47\n",
      "Decrypted Text: 5\n"
     ]
    }
   ],
   "source": [
    "public_key, private_key = rsa_key_generation(p, q, e)\n",
    "plaintext = 5\n",
    "\n",
    "ciphertext = rsa_encrypt(plaintext, public_key)\n",
    "decrypted_text = rsa_decrypt(ciphertext, private_key)\n",
    "\n",
    "print(\"Plaintext:\", plaintext)\n",
    "print(\"Ciphertext:\", ciphertext)\n",
    "\n",
    "print(\"Decrypted Text:\", decrypted_text)\n"
   ]
  }
 ],
 "metadata": {
  "kernelspec": {
   "display_name": "Python 3",
   "language": "python",
   "name": "python3"
  },
  "language_info": {
   "codemirror_mode": {
    "name": "ipython",
    "version": 3
   },
   "file_extension": ".py",
   "mimetype": "text/x-python",
   "name": "python",
   "nbconvert_exporter": "python",
   "pygments_lexer": "ipython3",
   "version": "3.12.4"
  }
 },
 "nbformat": 4,
 "nbformat_minor": 2
}
