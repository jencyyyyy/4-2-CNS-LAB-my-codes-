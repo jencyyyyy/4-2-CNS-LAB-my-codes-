{
 "cells": [
  {
   "cell_type": "markdown",
   "metadata": {},
   "source": [
    "7.\tUse the Robin-Miller algorithm to check whether the given number P is prime or not?  \n"
   ]
  },
  {
   "cell_type": "code",
   "execution_count": 7,
   "metadata": {},
   "outputs": [],
   "source": [
    "import random"
   ]
  },
  {
   "cell_type": "code",
   "execution_count": 15,
   "metadata": {},
   "outputs": [],
   "source": [
    "pow(10, 2, 3)\n",
    "\n",
    "#OR\n",
    "def manual_pow(base, exp, mod):\n",
    "    result = 1\n",
    "    base = base % mod\n",
    "\n",
    "    while exp > 0:\n",
    "        # If exp is odd, multiply the result by the base\n",
    "        if exp % 2 == 1:\n",
    "            result = (result * base) % mod\n",
    "\n",
    "        # Square the base and halve the exponent\n",
    "        base = (base * base) % mod\n",
    "        exp //= 2\n",
    "\n",
    "    return result"
   ]
  },
  {
   "cell_type": "code",
   "execution_count": 8,
   "metadata": {},
   "outputs": [],
   "source": [
    "def miller_rabin(P, num_iterations=10):\n",
    "    if P < 2:\n",
    "        return False\n",
    "    if P in (2, 3):\n",
    "        return True\n",
    "    if P % 2 == 0:\n",
    "        return False\n",
    "\n",
    "    # Write P-1 as (2^r) * d\n",
    "    r, d = 0, P - 1\n",
    "    while d % 2 == 0:\n",
    "        d //= 2\n",
    "        r += 1\n",
    "\n",
    "    for _ in range(num_iterations):\n",
    "        a = random.randint(2, P - 2)\n",
    "        x = pow(a, d, P)  # Efficient modular exponentiation\n",
    "        # x = manual_pow(a,d,P)\n",
    "        if x == 1 or x == P - 1:\n",
    "            continue\n",
    "\n",
    "        for _ in range(r - 1):\n",
    "            x = pow(x, 2, P)\n",
    "            if x == P - 1:\n",
    "                break\n",
    "        else:\n",
    "            return False\n",
    "\n",
    "    return True\n"
   ]
  },
  {
   "cell_type": "code",
   "execution_count": 9,
   "metadata": {},
   "outputs": [
    {
     "name": "stdout",
     "output_type": "stream",
     "text": [
      "12 is composite.\n"
     ]
    }
   ],
   "source": [
    "P = int(input(\"Enter a number to check primality: \"))\n",
    "\n",
    "if miller_rabin(P):\n",
    "    print(f\"{P} is probably a prime number.\")\n",
    "else:\n",
    "    print(f\"{P} is composite.\")\n"
   ]
  },
  {
   "cell_type": "markdown",
   "metadata": {},
   "source": [
    "## other codes"
   ]
  },
  {
   "cell_type": "code",
   "execution_count": 1,
   "metadata": {},
   "outputs": [
    {
     "name": "stdout",
     "output_type": "stream",
     "text": [
      "All primes smaller than 100: \n",
      "2 3 5 7 11 13 17 19 23 29 31 37 41 43 47 53 59 61 67 71 73 79 83 89 97 "
     ]
    }
   ],
   "source": [
    "import random \n",
    "# modular exponentiation.\n",
    "# It returns (x^y) % p\n",
    "def power(x, y, p):\n",
    "\t\n",
    "\t# Initialize result\n",
    "\tres = 1; \n",
    "\t\n",
    "\t# Update x if it is more than or\n",
    "\t# equal to p\n",
    "\tx = x % p; \n",
    "\twhile (y > 0):\n",
    "\t\t\n",
    "\t\t# If y is odd, multiply\n",
    "\t\t# x with result\n",
    "\t\tif (y & 1):\n",
    "\t\t\tres = (res * x) % p;\n",
    "\n",
    "\t\t# y must be even now\n",
    "\t\ty = y>>1; # y = y/2\n",
    "\t\tx = (x * x) % p;\n",
    "\t\n",
    "\treturn res;\n",
    "\n",
    "# This function is called\n",
    "# for all k trials. It returns\n",
    "# false if n is composite and \n",
    "# returns false if n is\n",
    "# probably prime. d is an odd \n",
    "# number such that d*2<sup>r</sup> = n-1\n",
    "# for some r >= 1\n",
    "def miillerTest(d, n):\n",
    "\t\n",
    "\t# Pick a random number in [2..n-2]\n",
    "\t# Corner cases make sure that n > 4\n",
    "\ta = 2 + random.randint(1, n - 4);\n",
    "\n",
    "\t# Compute a^d % n\n",
    "\tx = power(a, d, n);\n",
    "\n",
    "\tif (x == 1 or x == n - 1):\n",
    "\t\treturn True;\n",
    "\n",
    "\t# Keep squaring x while one \n",
    "\t# of the following doesn't \n",
    "\t# happen\n",
    "\t# (i) d does not reach n-1\n",
    "\t# (ii) (x^2) % n is not 1\n",
    "\t# (iii) (x^2) % n is not n-1\n",
    "\twhile (d != n - 1):\n",
    "\t\tx = (x * x) % n;\n",
    "\t\td *= 2;\n",
    "\n",
    "\t\tif (x == 1):\n",
    "\t\t\treturn False;\n",
    "\t\tif (x == n - 1):\n",
    "\t\t\treturn True;\n",
    "\n",
    "\t# Return composite\n",
    "\treturn False;\n",
    "\n",
    "# It returns false if n is \n",
    "# composite and returns true if n\n",
    "# is probably prime. k is an \n",
    "# input parameter that determines\n",
    "# accuracy level. Higher value of \n",
    "# k indicates more accuracy.\n",
    "def isPrime( n, k):\n",
    "\t\n",
    "\t# Corner cases\n",
    "\tif (n <= 1 or n == 4):\n",
    "\t\treturn False;\n",
    "\tif (n <= 3):\n",
    "\t\treturn True;\n",
    "\n",
    "\t# Find r such that n = \n",
    "\t# 2^d * r + 1 for some r >= 1\n",
    "\td = n - 1;\n",
    "\twhile (d % 2 == 0):\n",
    "\t\td //= 2;\n",
    "\n",
    "\t# Iterate given number of 'k' times\n",
    "\tfor i in range(k):\n",
    "\t\tif (miillerTest(d, n) == False):\n",
    "\t\t\treturn False;\n",
    "\n",
    "\treturn True;\n",
    "\n",
    "# Driver Code\n",
    "# Number of iterations\n",
    "k = 4; \n",
    "\n",
    "print(\"All primes smaller than 100: \");\n",
    "for n in range(1,100):\n",
    "\tif (isPrime(n, k)):\n",
    "\t\tprint(n , end=\" \");\n"
   ]
  },
  {
   "cell_type": "code",
   "execution_count": 2,
   "metadata": {},
   "outputs": [
    {
     "name": "stdout",
     "output_type": "stream",
     "text": [
      "All primes smaller than 100: \n",
      "2 3 5 7 11 13 17 19 23 29 31 37 41 43 47 53 59 61 67 71 73 79 83 89 97 "
     ]
    }
   ],
   "source": [
    "import random \n",
    "\n",
    "def power(x, y, p):\t\n",
    "\tres = 1; \n",
    "\tx = x % p; \n",
    "\twhile (y > 0):\n",
    "\t\tif (y & 1):\n",
    "\t\t\tres = (res * x) % p;\n",
    "\n",
    "\t\ty = y>>1;\n",
    "\t\tx = (x * x) % p;\t\n",
    "\treturn res;\n",
    "\n",
    "def miillerTest(d, n):\n",
    "\t\n",
    "\ta = 2 + random.randint(1, n - 4);\n",
    "\tx = power(a, d, n);\n",
    "\n",
    "\tif (x == 1 or x == n - 1):\n",
    "\t\treturn True;\n",
    "\n",
    "\twhile (d != n - 1):\n",
    "\t\tx = (x * x) % n;\n",
    "\t\td *= 2;\n",
    "\n",
    "\t\tif (x == 1):\n",
    "\t\t\treturn False;\n",
    "\t\tif (x == n - 1):\n",
    "\t\t\treturn True;\n",
    "\treturn False;\n",
    "\n",
    "def isPrime( n, k):\n",
    "\n",
    "\tif (n <= 1 or n == 4):\n",
    "\t\treturn False;\n",
    "\tif (n <= 3):\n",
    "\t\treturn True;\n",
    "\td = n - 1;\n",
    "\twhile (d % 2 == 0):\n",
    "\t\td //= 2;\n",
    "\n",
    "\tfor i in range(k):\n",
    "\t\tif (miillerTest(d, n) == False):\n",
    "\t\t\treturn False;\n",
    "\n",
    "\treturn True;\n",
    "\n",
    "k = 4; \n",
    "\n",
    "print(\"All primes smaller than 100: \");\n",
    "for n in range(1,100):\n",
    "\tif (isPrime(n, k)):\n",
    "\t\tprint(n , end=\" \");\n"
   ]
  }
 ],
 "metadata": {
  "kernelspec": {
   "display_name": "Python 3",
   "language": "python",
   "name": "python3"
  },
  "language_info": {
   "codemirror_mode": {
    "name": "ipython",
    "version": 3
   },
   "file_extension": ".py",
   "mimetype": "text/x-python",
   "name": "python",
   "nbconvert_exporter": "python",
   "pygments_lexer": "ipython3",
   "version": "3.12.4"
  }
 },
 "nbformat": 4,
 "nbformat_minor": 2
}
