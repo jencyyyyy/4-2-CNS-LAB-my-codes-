{
 "cells": [
  {
   "cell_type": "markdown",
   "metadata": {},
   "source": [
    "**5.You are supplied a file of large nonrepeating set of truly random key letter. Your job is to encrypt the plaintext using ONE TIME PAD technique. Then perform the reverse operation to get original plaintext.**"
   ]
  },
  {
   "cell_type": "code",
   "execution_count": 1,
   "metadata": {},
   "outputs": [],
   "source": [
    "import os"
   ]
  },
  {
   "cell_type": "code",
   "execution_count": 2,
   "metadata": {},
   "outputs": [],
   "source": [
    "def prepare_key(key, length):\n",
    "    if len(key) > length:\n",
    "        return key[:length]\n",
    "    else:\n",
    "        return (key * (length // len(key) + 1))[:length]\n"
   ]
  },
  {
   "cell_type": "code",
   "execution_count": 3,
   "metadata": {},
   "outputs": [],
   "source": [
    "def encrypt(plaintext, key):\n",
    "    key = prepare_key(key, len(plaintext))\n",
    "    ciphertext = []\n",
    "    \n",
    "    for p, k in zip(plaintext, key):\n",
    "        if p.isalpha():  # Encrypt only alphabetic characters\n",
    "            offset = ord('A') if p.isupper() else ord('a')\n",
    "            c = (ord(p) - offset + ord(k) - offset) % 26 + offset\n",
    "            ciphertext.append(chr(c))\n",
    "        else:\n",
    "            ciphertext.append(p)  \n",
    "    return ''.join(ciphertext)\n"
   ]
  },
  {
   "cell_type": "code",
   "execution_count": 4,
   "metadata": {},
   "outputs": [],
   "source": [
    "def decrypt(ciphertext, key):\n",
    "    key = prepare_key(key, len(ciphertext))\n",
    "    plaintext = []\n",
    "    \n",
    "    for c, k in zip(ciphertext, key):\n",
    "        if c.isalpha(): \n",
    "            offset = ord('A') if c.isupper() else ord('a')\n",
    "            p = (ord(c) - offset - (ord(k) - offset)) % 26 + offset\n",
    "            plaintext.append(chr(p))\n",
    "        else:\n",
    "            plaintext.append(c)  \n",
    "    \n",
    "    return ''.join(plaintext)\n"
   ]
  },
  {
   "cell_type": "code",
   "execution_count": 5,
   "metadata": {},
   "outputs": [],
   "source": [
    "# Example usage:\n",
    "plaintext = \"BANGLADESH\" #ARPFUTHSNH - key\n",
    "with open('5-key.txt', 'r') as file:\n",
    "    key = file.read().strip()"
   ]
  },
  {
   "cell_type": "code",
   "execution_count": 6,
   "metadata": {},
   "outputs": [
    {
     "name": "stdout",
     "output_type": "stream",
     "text": [
      "Ciphertext: BRCLFTKWFO\n",
      "Decrypted Text: BANGLADESH\n"
     ]
    }
   ],
   "source": [
    "ciphertext = encrypt(plaintext, key)\n",
    "print(f\"Ciphertext: {ciphertext}\")\n",
    "\n",
    "decrypted_text = decrypt(ciphertext, key)\n",
    "print(f\"Decrypted Text: {decrypted_text}\")\n"
   ]
  },
  {
   "cell_type": "markdown",
   "metadata": {},
   "source": [
    "# Other"
   ]
  },
  {
   "cell_type": "markdown",
   "metadata": {},
   "source": [
    "## **alphabets all upper and count starts with 1**"
   ]
  },
  {
   "cell_type": "code",
   "execution_count": 12,
   "metadata": {},
   "outputs": [
    {
     "name": "stdout",
     "output_type": "stream",
     "text": [
      "Ciphertext: CSDMGULXGP\n",
      "Decrypted Text: BANGLADESH\n"
     ]
    }
   ],
   "source": [
    "def prepare_key(key, length):\n",
    "    if len(key) > length:\n",
    "        return key[:length].upper()\n",
    "    else:\n",
    "        return (key.upper() * (length // len(key) + 1))[:length]\n",
    "\n",
    "def char_to_num(c):\n",
    "    return ord(c) - ord('A') + 1\n",
    "\n",
    "def num_to_char(n):\n",
    "    return chr((n - 1) % 26 + ord('A'))\n",
    "\n",
    "def encrypt(plaintext, key):\n",
    "    \"\"\"Encrypt the plaintext using the OTP technique.\"\"\"\n",
    "    key = prepare_key(key, len(plaintext))\n",
    "    ciphertext = []\n",
    "    \n",
    "    for p, k in zip(plaintext.upper(), key):\n",
    "        if p.isalpha():  # Encrypt only alphabetic characters\n",
    "            p_num = char_to_num(p)\n",
    "            k_num = char_to_num(k)\n",
    "            c_num = (p_num + k_num) % 26\n",
    "            c_num = c_num if c_num != 0 else 26  # Handle case where sum is exactly 26\n",
    "            ciphertext.append(num_to_char(c_num))\n",
    "        else:\n",
    "            ciphertext.append(p)  # Non-alphabetic characters remain unchanged\n",
    "    \n",
    "    return ''.join(ciphertext)\n",
    "\n",
    "def decrypt(ciphertext, key):\n",
    "    \"\"\"Decrypt the ciphertext back to plaintext using the OTP technique.\"\"\"\n",
    "    key = prepare_key(key, len(ciphertext))\n",
    "    plaintext = []\n",
    "    \n",
    "    for c, k in zip(ciphertext.upper(), key):\n",
    "        if c.isalpha():  # Decrypt only alphabetic characters\n",
    "            c_num = char_to_num(c)\n",
    "            k_num = char_to_num(k)\n",
    "            p_num = (c_num - k_num) % 26\n",
    "            p_num = p_num if p_num != 0 else 26  # Handle case where difference is exactly 26\n",
    "            plaintext.append(num_to_char(p_num))\n",
    "        else:\n",
    "            plaintext.append(c)  # Non-alphabetic characters remain unchanged\n",
    "    \n",
    "    return ''.join(plaintext)\n",
    "\n",
    "# Example usage:\n",
    "with open('5-key.txt', 'r') as file:\n",
    "    key = file.read().strip()\n",
    "\n",
    "plaintext = \"BANGLADESH\"\n",
    "ciphertext = encrypt(plaintext, key)\n",
    "print(f\"Ciphertext: {ciphertext}\")\n",
    "\n",
    "decrypted_text = decrypt(ciphertext, key)\n",
    "print(f\"Decrypted Text: {decrypted_text}\")"
   ]
  }
 ],
 "metadata": {
  "kernelspec": {
   "display_name": "Python 3",
   "language": "python",
   "name": "python3"
  },
  "language_info": {
   "codemirror_mode": {
    "name": "ipython",
    "version": 3
   },
   "file_extension": ".py",
   "mimetype": "text/x-python",
   "name": "python",
   "nbconvert_exporter": "python",
   "pygments_lexer": "ipython3",
   "version": "3.12.4"
  }
 },
 "nbformat": 4,
 "nbformat_minor": 2
}
