{
 "cells": [
  {
   "cell_type": "code",
   "execution_count": 26,
   "metadata": {},
   "outputs": [],
   "source": [
    "substitution_map = {\n",
    "    \"HEL\": \"XJW\",\n",
    "    \"LO\": \"AKT\",\n",
    "    \"WOR\": \"BPR\",\n",
    " \n",
    "}\n"
   ]
  },
  {
   "cell_type": "code",
   "execution_count": 27,
   "metadata": {},
   "outputs": [],
   "source": [
    "\n",
    "reverse_substitution_map = {v: k for k, v in substitution_map.items()}\n",
    "\n",
    "def encrypt(plaintext):\n",
    "    ciphertext = \"\"\n",
    "    for i in range(0, len(plaintext), 3):\n",
    "        block = plaintext[i:i+3]\n",
    "        ciphertext += substitution_map.get(block, block)\n",
    "        # print(ciphertext)\n",
    "    return ciphertext\n"
   ]
  },
  {
   "cell_type": "code",
   "execution_count": 28,
   "metadata": {},
   "outputs": [],
   "source": [
    "\n",
    "def decrypt(ciphertext):\n",
    "    plaintext = \"\"\n",
    "    for i in range(0, len(ciphertext), 3):\n",
    "        block = ciphertext[i:i+3]\n",
    "        plaintext += reverse_substitution_map.get(block, block) #key,value\n",
    "    return plaintext\n"
   ]
  },
  {
   "cell_type": "code",
   "execution_count": 29,
   "metadata": {},
   "outputs": [
    {
     "name": "stdout",
     "output_type": "stream",
     "text": [
      "Ciphertext: XJWLO BPRLD\n",
      "Decrypted Plaintext: HELLO WORLD\n"
     ]
    }
   ],
   "source": [
    "\n",
    "plaintext = \"HELLO WORLD\"\n",
    "\n",
    "ciphertext = encrypt(plaintext)\n",
    "print(\"Ciphertext:\", ciphertext)\n",
    "\n",
    "decrypted_text = decrypt(ciphertext)\n",
    "print(\"Decrypted Plaintext:\", decrypted_text)\n"
   ]
  },
  {
   "cell_type": "code",
   "execution_count": 30,
   "metadata": {},
   "outputs": [
    {
     "data": {
      "text/plain": [
       "'XJW'"
      ]
     },
     "execution_count": 30,
     "metadata": {},
     "output_type": "execute_result"
    }
   ],
   "source": [
    "x =substitution_map.get('HEL')\n",
    "x"
   ]
  },
  {
   "cell_type": "code",
   "execution_count": 31,
   "metadata": {},
   "outputs": [
    {
     "data": {
      "text/plain": [
       "{'XJW': 'HEL', 'AKT': 'LO', 'BPR': 'WOR'}"
      ]
     },
     "execution_count": 31,
     "metadata": {},
     "output_type": "execute_result"
    }
   ],
   "source": [
    "reverse_substitution_map"
   ]
  }
 ],
 "metadata": {
  "kernelspec": {
   "display_name": "Python 3",
   "language": "python",
   "name": "python3"
  },
  "language_info": {
   "codemirror_mode": {
    "name": "ipython",
    "version": 3
   },
   "file_extension": ".py",
   "mimetype": "text/x-python",
   "name": "python",
   "nbconvert_exporter": "python",
   "pygments_lexer": "ipython3",
   "version": "3.12.4"
  }
 },
 "nbformat": 4,
 "nbformat_minor": 2
}
