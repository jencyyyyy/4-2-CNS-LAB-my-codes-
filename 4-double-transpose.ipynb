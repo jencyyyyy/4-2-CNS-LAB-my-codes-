{
 "cells": [
  {
   "cell_type": "markdown",
   "metadata": {},
   "source": [
    "**4.Find out corresponding double Transposition Cipher of the above plaintext. Then perform the reverse operation to get original plaintext.**\n"
   ]
  },
  {
   "cell_type": "markdown",
   "metadata": {},
   "source": [
    "two times encryption then two times decryption"
   ]
  },
  {
   "cell_type": "code",
   "execution_count": 5,
   "metadata": {},
   "outputs": [],
   "source": [
    "def encryption(text,n):\n",
    "    return \"\".join(text[i::n] for i in range(n))"
   ]
  },
  {
   "cell_type": "code",
   "execution_count": 38,
   "metadata": {},
   "outputs": [],
   "source": [
    "def decrypt(text,n):\n",
    "    col = n\n",
    "    charecters = len(text)\n",
    "    row = charecters // col + (1 if charecters%col !=0 else 0)\n",
    "\n",
    "    idx=0\n",
    "    plain=[''] * row\n",
    "    for i in range(col):\n",
    "        for j in range(row):\n",
    "            if idx<charecters:\n",
    "                print(text, idx, j, text[idx])\n",
    "                plain[j]+= text[idx]\n",
    "                idx +=1\n",
    "                print(idx)\n",
    "                print(plain )\n",
    "    return \"\".join(plain)\n"
   ]
  },
  {
   "cell_type": "code",
   "execution_count": 23,
   "metadata": {},
   "outputs": [],
   "source": [
    "#plaintext = \"DEPARTMENT OF COMPUTER SCIENCE AND TECHNOLOGY UNIVERSITY OF RAISHAHI BANGLADESH\";\n",
    "#plaintext=\"Hello WOrld\"\n",
    "plaintext=\"Hello\"\n",
    "\n",
    "n = 2"
   ]
  },
  {
   "cell_type": "code",
   "execution_count": 24,
   "metadata": {},
   "outputs": [
    {
     "data": {
      "text/plain": [
       "'Hloel'"
      ]
     },
     "execution_count": 24,
     "metadata": {},
     "output_type": "execute_result"
    }
   ],
   "source": [
    "cipher = encryption(plaintext,n)\n",
    "cipher"
   ]
  },
  {
   "cell_type": "code",
   "execution_count": 25,
   "metadata": {},
   "outputs": [
    {
     "data": {
      "text/plain": [
       "'Holle'"
      ]
     },
     "execution_count": 25,
     "metadata": {},
     "output_type": "execute_result"
    }
   ],
   "source": [
    "double_cipher= encryption(cipher,n)\n",
    "double_cipher"
   ]
  },
  {
   "cell_type": "code",
   "execution_count": 39,
   "metadata": {},
   "outputs": [
    {
     "name": "stdout",
     "output_type": "stream",
     "text": [
      "Holle 0 0 H\n",
      "1\n",
      "['H', '', '']\n",
      "Holle 1 1 o\n",
      "2\n",
      "['H', 'o', '']\n",
      "Holle 2 2 l\n",
      "3\n",
      "['H', 'o', 'l']\n",
      "Holle 3 0 l\n",
      "4\n",
      "['Hl', 'o', 'l']\n",
      "Holle 4 1 e\n",
      "5\n",
      "['Hl', 'oe', 'l']\n"
     ]
    },
    {
     "data": {
      "text/plain": [
       "'Hloel'"
      ]
     },
     "execution_count": 39,
     "metadata": {},
     "output_type": "execute_result"
    }
   ],
   "source": [
    "decypher1 = decrypt(double_cipher,n)\n",
    "decypher1"
   ]
  },
  {
   "cell_type": "code",
   "execution_count": 40,
   "metadata": {},
   "outputs": [
    {
     "name": "stdout",
     "output_type": "stream",
     "text": [
      "Hloel 0 0 H\n",
      "1\n",
      "['H', '', '']\n",
      "Hloel 1 1 l\n",
      "2\n",
      "['H', 'l', '']\n",
      "Hloel 2 2 o\n",
      "3\n",
      "['H', 'l', 'o']\n",
      "Hloel 3 0 e\n",
      "4\n",
      "['He', 'l', 'o']\n",
      "Hloel 4 1 l\n",
      "5\n",
      "['He', 'll', 'o']\n"
     ]
    },
    {
     "data": {
      "text/plain": [
       "'Hello'"
      ]
     },
     "execution_count": 40,
     "metadata": {},
     "output_type": "execute_result"
    }
   ],
   "source": [
    "reverse_original = decrypt(decypher1,n)\n",
    "reverse_original"
   ]
  }
 ],
 "metadata": {
  "kernelspec": {
   "display_name": "Python 3",
   "language": "python",
   "name": "python3"
  },
  "language_info": {
   "codemirror_mode": {
    "name": "ipython",
    "version": 3
   },
   "file_extension": ".py",
   "mimetype": "text/x-python",
   "name": "python",
   "nbconvert_exporter": "python",
   "pygments_lexer": "ipython3",
   "version": "3.12.4"
  }
 },
 "nbformat": 4,
 "nbformat_minor": 2
}
