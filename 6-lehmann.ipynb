{
 "cells": [
  {
   "cell_type": "markdown",
   "metadata": {},
   "source": [
    "# Python code for Lehmann's Primality Test\n",
    "\n"
   ]
  },
  {
   "cell_type": "code",
   "execution_count": 1,
   "metadata": {},
   "outputs": [],
   "source": [
    "# importing \"random\" for random operations\n",
    "import random"
   ]
  },
  {
   "cell_type": "code",
   "execution_count": 2,
   "metadata": {},
   "outputs": [],
   "source": [
    "# function to check Lehmann's test\n",
    "def lehmann(n, t):\n",
    "\n",
    "\t# generating a random base less than n\n",
    "\ta = random.randint(2, n-1)\n",
    "\n",
    "\t# calculating exponent\n",
    "\te =(n-1)/2\n",
    "\n",
    "\t# iterate to check for different base values \n",
    "\t# for given number of tries 't'\n",
    "\twhile(t>0):\n",
    "\n",
    "\t\t# calculating final value using formula\n",
    "\t\tresult =((int)(a**e))% n\n",
    "\n",
    "\t\t# if not equal, try for different base\n",
    "\t\tif((result % n)!= 1 or (result % n)!=(n-1) or((result % n)!=-1)):\n",
    "\t\t\ta = random.randint(2, n-1)\n",
    "\t\t\tt-= 1\n",
    "\n",
    "\t\t# else return negative\n",
    "\t\telse:\n",
    "\t\t\treturn -1\n",
    "\n",
    "\t# return positive after attempting\n",
    "\treturn 1\n"
   ]
  },
  {
   "cell_type": "code",
   "execution_count": 3,
   "metadata": {},
   "outputs": [],
   "source": [
    "\n",
    "# Driver code\n",
    "n = 98 # number to be tested\n",
    "t = 100 # number of tries\n"
   ]
  },
  {
   "cell_type": "code",
   "execution_count": 4,
   "metadata": {},
   "outputs": [
    {
     "name": "stdout",
     "output_type": "stream",
     "text": [
      "98 is Composite\n"
     ]
    }
   ],
   "source": [
    "\n",
    "# if n is 1, it is prime\n",
    "if(n == 1):\n",
    "\t\n",
    "\tprint(\"1 is Prime.\")\n",
    "\n",
    "# if n is 2, it is prime\n",
    "if(n == 2):\n",
    "\tprint(\"2 is Prime.\")\n",
    "\n",
    "# if even, it is composite\n",
    "if(n % 2 == 0):\n",
    "\tprint(n, \"is Composite\")\n",
    "\n",
    "# if odd, check\n",
    "else:\n",
    "\tflag = lehmann(n, t)\n",
    "\n",
    "\tif(flag == 1):\n",
    "\t\tprint(n, \"may be Prime.\")\n",
    "\n",
    "\telse:\n",
    "\t\tprint(n, \"is Composite.\")\n"
   ]
  },
  {
   "cell_type": "code",
   "execution_count": 3,
   "metadata": {},
   "outputs": [
    {
     "name": "stdout",
     "output_type": "stream",
     "text": [
      "1  is Prime.\n"
     ]
    }
   ],
   "source": [
    "import random\n",
    "\n",
    "def lehmann(n, t):\n",
    "\ta = random.randint(2, n-1)\n",
    "\te =(n-1)/2\n",
    "\twhile(t>0):\n",
    "\t\tresult =((int)(a**e))% n\n",
    "\t\tif((result % n)== 1 or (result % n)==(n-1)):\n",
    "\t\t\ta = random.randint(2, n-1)\n",
    "\t\t\tt-= 1\n",
    "\t\telse:\n",
    "\t\t\treturn -1\n",
    "\treturn 1\n",
    "\n",
    "n = 1\n",
    "t = 10 \n",
    "\n",
    "if(n ==1 or n == 2 ):\n",
    "\tprint(n,\" is Prime.\")\n",
    "elif(n % 2 == 0):\n",
    "\tprint(n, \"is Composite\")\n",
    "else:\n",
    "\tflag = lehmann(n, t)\n",
    "\n",
    "\tif(flag == 1):\n",
    "\t\tprint(n, \"may be Prime.\")\n",
    "\n",
    "\telse:\n",
    "\t\tprint(n, \"is Composite.\")\n"
   ]
  }
 ],
 "metadata": {
  "kernelspec": {
   "display_name": "Python 3",
   "language": "python",
   "name": "python3"
  },
  "language_info": {
   "codemirror_mode": {
    "name": "ipython",
    "version": 3
   },
   "file_extension": ".py",
   "mimetype": "text/x-python",
   "name": "python",
   "nbconvert_exporter": "python",
   "pygments_lexer": "ipython3",
   "version": "3.12.4"
  }
 },
 "nbformat": 4,
 "nbformat_minor": 2
}
