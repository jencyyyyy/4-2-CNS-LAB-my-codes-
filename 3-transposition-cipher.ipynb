{
 "cells": [
  {
   "cell_type": "markdown",
   "metadata": {},
   "source": [
    "3.\tConsider the plaintext “DEPARTMENT OF COMPUTER SCIENCE AND TECHNOLY UNIVERSITY\n",
    " OF RAJSHAHI BANGLADESH”, find out the corresponding Transposition Cipher (Take width as input). \n",
    " Then perform the reverse operation to get original plaintext."
   ]
  },
  {
   "cell_type": "code",
   "execution_count": 30,
   "metadata": {},
   "outputs": [
    {
     "data": {
      "text/plain": [
       "'Hlo'"
      ]
     },
     "execution_count": 30,
     "metadata": {},
     "output_type": "execute_result"
    }
   ],
   "source": [
    "text=\"Hello\"\n",
    "text[0::2]\n",
    "# text[start:stop:step]"
   ]
  },
  {
   "cell_type": "code",
   "execution_count": 42,
   "metadata": {},
   "outputs": [],
   "source": [
    "def cipher_text(text, n):\n",
    "    # for i in range(n):\n",
    "    #     print(text[i::n]) \n",
    "    return ''.join(text[i::n] for i in range(n))\n"
   ]
  },
  {
   "cell_type": "code",
   "execution_count": 1,
   "metadata": {},
   "outputs": [],
   "source": [
    "def decipher_text3(cipher, n):\n",
    "    col = n\n",
    "    len_c =len(cipher)\n",
    "    row = len_c // col + (1 if len_c % col != 0 else 0)\n",
    "    plain_text = [''] * row\n",
    "\n",
    "    idx = 0\n",
    "\n",
    "    for i in range(col):\n",
    "        for j in range(row):\n",
    "            if idx < len_c:\n",
    "                plain_text[j] += cipher[idx]\n",
    "                idx += 1\n",
    "\n",
    "    return ''.join(plain_text)\n"
   ]
  },
  {
   "cell_type": "code",
   "execution_count": 56,
   "metadata": {},
   "outputs": [],
   "source": [
    "#text = \"DEPARTMENT OF COMPUTER SCIENCE AND ENGINEERING\"\n",
    "text = \"Hello WOrld\"\n"
   ]
  },
  {
   "cell_type": "code",
   "execution_count": 59,
   "metadata": {},
   "outputs": [
    {
     "name": "stdout",
     "output_type": "stream",
     "text": [
      "Plain-Text:  Hello WOrld\n",
      "Cipher-Text:  HloWrdel Ol\n",
      "Decipher-Text:  Hello WOrld\n"
     ]
    }
   ],
   "source": [
    "# n = int(input(\"Enter the size of the column: \"))\n",
    "n=2\n",
    "cipher = cipher_text(text, n)\n",
    "decipher = decipher_text3(cipher, n)\n",
    "\n",
    "print(\"Plain-Text: \", text)\n",
    "print(\"Cipher-Text: \", cipher)\n",
    "print(\"Decipher-Text: \", decipher)\n"
   ]
  },
  {
   "cell_type": "markdown",
   "metadata": {},
   "source": [
    "## more methods of decryption"
   ]
  },
  {
   "cell_type": "code",
   "execution_count": 8,
   "metadata": {},
   "outputs": [],
   "source": [
    "def decipher_text(cipher, n):\n",
    "    col = n\n",
    "    full_rows = len(cipher) // col\n",
    "    extra_chars = len(cipher) % col\n",
    "    row_length = full_rows + (1 if extra_chars else 0)\n",
    "\n",
    "    plain_text = [''] * len(cipher)\n",
    "    idx = 0\n",
    "\n",
    "    for i in range(col):\n",
    "        step = row_length if i < extra_chars else full_rows\n",
    "        for j in range(step):\n",
    "            plain_text[i + j * col] = cipher[idx]\n",
    "            idx += 1\n",
    "\n",
    "    return ''.join(plain_text)\n"
   ]
  },
  {
   "cell_type": "code",
   "execution_count": 54,
   "metadata": {},
   "outputs": [],
   "source": [
    "def decipher_text2(cipher, n):\n",
    "    # Calculate the number of rows needed\n",
    "    row_length = len(cipher) // n\n",
    "    if len(cipher) % n != 0:\n",
    "        row_length += 1\n",
    "\n",
    "    # Initialize an empty list to collect plain text characters\n",
    "    plain_text = []\n",
    "\n",
    "    # Loop through each row index\n",
    "    for i in range(row_length):\n",
    "        # Loop through each column index and add the correct character\n",
    "        for j in range(n):\n",
    "            idx = j * row_length + i\n",
    "            if idx < len(cipher):\n",
    "                plain_text.append(cipher[idx])\n",
    "\n",
    "    # Join the list into a single string\n",
    "    return ''.join(plain_text)\n"
   ]
  }
 ],
 "metadata": {
  "kernelspec": {
   "display_name": "Python 3",
   "language": "python",
   "name": "python3"
  },
  "language_info": {
   "codemirror_mode": {
    "name": "ipython",
    "version": 3
   },
   "file_extension": ".py",
   "mimetype": "text/x-python",
   "name": "python",
   "nbconvert_exporter": "python",
   "pygments_lexer": "ipython3",
   "version": "3.12.4"
  }
 },
 "nbformat": 4,
 "nbformat_minor": 2
}
